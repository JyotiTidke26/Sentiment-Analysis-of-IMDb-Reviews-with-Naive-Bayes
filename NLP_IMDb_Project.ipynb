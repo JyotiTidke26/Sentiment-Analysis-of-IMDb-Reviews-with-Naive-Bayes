{
  "nbformat": 4,
  "nbformat_minor": 0,
  "metadata": {
    "colab": {
      "provenance": [],
      "gpuType": "T4",
      "toc_visible": true
    },
    "kernelspec": {
      "name": "python3",
      "display_name": "Python 3"
    },
    "language_info": {
      "name": "python"
    },
    "accelerator": "GPU"
  },
  "cells": [
    {
      "cell_type": "markdown",
      "source": [
        "# 🎯 Project Goal"
      ],
      "metadata": {
        "id": "b5tiMJVMOOtt"
      }
    },
    {
      "cell_type": "markdown",
      "source": [
        "\n",
        "Build a Natural Language Processing (NLP) pipeline to classify IMDb reviews as positive (1) or negative (0) using **TF-IDF + Naive Bayes** classifier. This project demonstrates the end-to-end application of NLP techniques for sentiment analysis in real-world text data."
      ],
      "metadata": {
        "id": "98B_X04MOLUR"
      }
    },
    {
      "cell_type": "markdown",
      "source": [
        "The dataset consists of the following:\n",
        "\n",
        "Reviews: Text data containing user opinions about movies.\n",
        "\n",
        "Sentiments: Labels for each review, where 1 indicates a positive sentiment, and 0 indicates a negative sentiment."
      ],
      "metadata": {
        "id": "e0IJzcjhPHtX"
      }
    },
    {
      "cell_type": "markdown",
      "source": [
        "# Setup the Environment"
      ],
      "metadata": {
        "id": "4SeLs6RqmNun"
      }
    },
    {
      "cell_type": "code",
      "source": [
        "!pip install datasets\n",
        "!pip install nltk"
      ],
      "metadata": {
        "colab": {
          "base_uri": "https://localhost:8080/"
        },
        "collapsed": true,
        "id": "bCYrC3DsOLAP",
        "outputId": "77c5169e-3ed0-469b-b49e-697fd018b5a5"
      },
      "execution_count": 1,
      "outputs": [
        {
          "output_type": "stream",
          "name": "stdout",
          "text": [
            "Requirement already satisfied: datasets in /usr/local/lib/python3.11/dist-packages (2.14.4)\n",
            "Requirement already satisfied: numpy>=1.17 in /usr/local/lib/python3.11/dist-packages (from datasets) (2.0.2)\n",
            "Requirement already satisfied: pyarrow>=8.0.0 in /usr/local/lib/python3.11/dist-packages (from datasets) (18.1.0)\n",
            "Requirement already satisfied: dill<0.3.8,>=0.3.0 in /usr/local/lib/python3.11/dist-packages (from datasets) (0.3.7)\n",
            "Requirement already satisfied: pandas in /usr/local/lib/python3.11/dist-packages (from datasets) (2.2.2)\n",
            "Requirement already satisfied: requests>=2.19.0 in /usr/local/lib/python3.11/dist-packages (from datasets) (2.32.3)\n",
            "Requirement already satisfied: tqdm>=4.62.1 in /usr/local/lib/python3.11/dist-packages (from datasets) (4.67.1)\n",
            "Requirement already satisfied: xxhash in /usr/local/lib/python3.11/dist-packages (from datasets) (3.5.0)\n",
            "Requirement already satisfied: multiprocess in /usr/local/lib/python3.11/dist-packages (from datasets) (0.70.15)\n",
            "Requirement already satisfied: fsspec>=2021.11.1 in /usr/local/lib/python3.11/dist-packages (from fsspec[http]>=2021.11.1->datasets) (2025.3.2)\n",
            "Requirement already satisfied: aiohttp in /usr/local/lib/python3.11/dist-packages (from datasets) (3.11.15)\n",
            "Requirement already satisfied: huggingface-hub<1.0.0,>=0.14.0 in /usr/local/lib/python3.11/dist-packages (from datasets) (0.31.2)\n",
            "Requirement already satisfied: packaging in /usr/local/lib/python3.11/dist-packages (from datasets) (24.2)\n",
            "Requirement already satisfied: pyyaml>=5.1 in /usr/local/lib/python3.11/dist-packages (from datasets) (6.0.2)\n",
            "Requirement already satisfied: aiohappyeyeballs>=2.3.0 in /usr/local/lib/python3.11/dist-packages (from aiohttp->datasets) (2.6.1)\n",
            "Requirement already satisfied: aiosignal>=1.1.2 in /usr/local/lib/python3.11/dist-packages (from aiohttp->datasets) (1.3.2)\n",
            "Requirement already satisfied: attrs>=17.3.0 in /usr/local/lib/python3.11/dist-packages (from aiohttp->datasets) (25.3.0)\n",
            "Requirement already satisfied: frozenlist>=1.1.1 in /usr/local/lib/python3.11/dist-packages (from aiohttp->datasets) (1.6.0)\n",
            "Requirement already satisfied: multidict<7.0,>=4.5 in /usr/local/lib/python3.11/dist-packages (from aiohttp->datasets) (6.4.3)\n",
            "Requirement already satisfied: propcache>=0.2.0 in /usr/local/lib/python3.11/dist-packages (from aiohttp->datasets) (0.3.1)\n",
            "Requirement already satisfied: yarl<2.0,>=1.17.0 in /usr/local/lib/python3.11/dist-packages (from aiohttp->datasets) (1.20.0)\n",
            "Requirement already satisfied: filelock in /usr/local/lib/python3.11/dist-packages (from huggingface-hub<1.0.0,>=0.14.0->datasets) (3.18.0)\n",
            "Requirement already satisfied: typing-extensions>=3.7.4.3 in /usr/local/lib/python3.11/dist-packages (from huggingface-hub<1.0.0,>=0.14.0->datasets) (4.13.2)\n",
            "Requirement already satisfied: charset-normalizer<4,>=2 in /usr/local/lib/python3.11/dist-packages (from requests>=2.19.0->datasets) (3.4.2)\n",
            "Requirement already satisfied: idna<4,>=2.5 in /usr/local/lib/python3.11/dist-packages (from requests>=2.19.0->datasets) (3.10)\n",
            "Requirement already satisfied: urllib3<3,>=1.21.1 in /usr/local/lib/python3.11/dist-packages (from requests>=2.19.0->datasets) (2.4.0)\n",
            "Requirement already satisfied: certifi>=2017.4.17 in /usr/local/lib/python3.11/dist-packages (from requests>=2.19.0->datasets) (2025.4.26)\n",
            "Requirement already satisfied: python-dateutil>=2.8.2 in /usr/local/lib/python3.11/dist-packages (from pandas->datasets) (2.9.0.post0)\n",
            "Requirement already satisfied: pytz>=2020.1 in /usr/local/lib/python3.11/dist-packages (from pandas->datasets) (2025.2)\n",
            "Requirement already satisfied: tzdata>=2022.7 in /usr/local/lib/python3.11/dist-packages (from pandas->datasets) (2025.2)\n",
            "Requirement already satisfied: six>=1.5 in /usr/local/lib/python3.11/dist-packages (from python-dateutil>=2.8.2->pandas->datasets) (1.17.0)\n",
            "Requirement already satisfied: nltk in /usr/local/lib/python3.11/dist-packages (3.9.1)\n",
            "Requirement already satisfied: click in /usr/local/lib/python3.11/dist-packages (from nltk) (8.2.0)\n",
            "Requirement already satisfied: joblib in /usr/local/lib/python3.11/dist-packages (from nltk) (1.5.0)\n",
            "Requirement already satisfied: regex>=2021.8.3 in /usr/local/lib/python3.11/dist-packages (from nltk) (2024.11.6)\n",
            "Requirement already satisfied: tqdm in /usr/local/lib/python3.11/dist-packages (from nltk) (4.67.1)\n"
          ]
        }
      ]
    },
    {
      "cell_type": "code",
      "source": [
        "# Install necessary libraries\n",
        "import nltk\n",
        "nltk.download('stopwords')\n",
        "nltk.download('punkt')\n",
        "nltk.download('wordnet')\n",
        "nltk.download('omw-1.4')\n",
        "nltk.download('punkt_tab')\n",
        "\n",
        "from nltk.corpus import stopwords\n",
        "from nltk.tokenize import word_tokenize\n",
        "from nltk.stem import WordNetLemmatizer\n",
        "import string\n",
        "import re\n",
        "import pandas as pd\n",
        "import numpy as np\n",
        "import matplotlib.pyplot as plt\n",
        "import seaborn as sns\n",
        "from collections import Counter"
      ],
      "metadata": {
        "colab": {
          "base_uri": "https://localhost:8080/"
        },
        "id": "XeBSsiIIlFVl",
        "outputId": "1b129b0e-744c-4997-bdbc-5a138abe7f81"
      },
      "execution_count": 2,
      "outputs": [
        {
          "output_type": "stream",
          "name": "stderr",
          "text": [
            "[nltk_data] Downloading package stopwords to /root/nltk_data...\n",
            "[nltk_data]   Unzipping corpora/stopwords.zip.\n",
            "[nltk_data] Downloading package punkt to /root/nltk_data...\n",
            "[nltk_data]   Unzipping tokenizers/punkt.zip.\n",
            "[nltk_data] Downloading package wordnet to /root/nltk_data...\n",
            "[nltk_data] Downloading package omw-1.4 to /root/nltk_data...\n",
            "[nltk_data] Downloading package punkt_tab to /root/nltk_data...\n",
            "[nltk_data]   Unzipping tokenizers/punkt_tab.zip.\n"
          ]
        }
      ]
    },
    {
      "cell_type": "markdown",
      "source": [
        "# Load and Preview the Data"
      ],
      "metadata": {
        "id": "-WdKqscrPQPN"
      }
    },
    {
      "cell_type": "code",
      "source": [
        "# Load and Prepare the Dataset\n",
        "# Mount Google Drive\n",
        "from google.colab import drive\n",
        "drive.mount('/content/drive')\n",
        "\n",
        "# Load the IMDb dataset from the mounted Drive\n",
        "file_path = '/content/drive/MyDrive/Final_Mock_Interview_Jyoti_Tidke/IMDb_Reviews.csv'\n",
        "df = pd.read_csv(file_path)\n",
        "\n",
        "# Keep only the 'review' and 'sentiment' columns and drop missing values\n",
        "df = df[['review', 'sentiment']].dropna()"
      ],
      "metadata": {
        "colab": {
          "base_uri": "https://localhost:8080/"
        },
        "id": "tn22GSkuQRnS",
        "outputId": "d9e4b634-cc57-42c8-9347-eadc53b84c91"
      },
      "execution_count": 3,
      "outputs": [
        {
          "output_type": "stream",
          "name": "stdout",
          "text": [
            "Mounted at /content/drive\n"
          ]
        }
      ]
    },
    {
      "cell_type": "code",
      "source": [
        "# Reduce memory load by limiting to N reviews\n",
        "N = 50000\n",
        "df = df.sample(frac=1, random_state=42).reset_index(drop=True).head(N)\n",
        "\n",
        "print(\"Data shape after limiting:\", df.shape)"
      ],
      "metadata": {
        "colab": {
          "base_uri": "https://localhost:8080/"
        },
        "id": "YwxZVZXtziBo",
        "outputId": "bbef6d4d-8938-4f53-d7db-4b5cbfd513fb"
      },
      "execution_count": 4,
      "outputs": [
        {
          "output_type": "stream",
          "name": "stdout",
          "text": [
            "Data shape after limiting: (50000, 2)\n"
          ]
        }
      ]
    },
    {
      "cell_type": "code",
      "source": [
        "print('Shape of Dataframe:',df.shape)\n",
        "pd.set_option('display.max_colwidth', None)\n",
        "df.head(2)"
      ],
      "metadata": {
        "colab": {
          "base_uri": "https://localhost:8080/",
          "height": 477
        },
        "id": "79kI5x-0kJpU",
        "outputId": "9db75325-0fb6-431e-b7a7-9e18e6f9e358"
      },
      "execution_count": 5,
      "outputs": [
        {
          "output_type": "stream",
          "name": "stdout",
          "text": [
            "Shape of Dataframe: (50000, 2)\n"
          ]
        },
        {
          "output_type": "execute_result",
          "data": {
            "text/plain": [
              "                                                                                                                                                                                                                                                                                                                                                                                                                                                                                                                                                                                                                                                                                                                                                                                                                                                                                                                                                                                                                                                                                                                                                                                                                                                                                                                                                                                                                                                                                                                                                                                                                                                                                               review  \\\n",
              "0  I wanted to love this film so badly...I really did. But it was a horrible disappointment.<br /><br />I read Jennifer Egan's novel in 1996 and was enthralled by the story. In fact it remains one of my favorite books of all time. Mind you, the book had much more depth than this movie, in plot and emotional resonance. It MADE you care about the characters. It painted a complete picture of Phoebe, unlike the utterly poor characterization of the young girl in the film.<br /><br />Though beautiful and showing *some* promise in her burgeoning career, Jordana Brewster was as flat and hollow in this performance as was the script. And Christopher Eccleston (Wolf) was just an awful choice for the role of Wolf, both physically and logistically. What an awkward looking couple. Wolf should have been more of a dark brooding character, and more physically alluring, like he was in the book. What's more, the chemistry between the two actors was painfully forced.<br /><br />Cameron Diaz, however, deserves utmost praise for her performance. She took an impossibly mediocre script and gave her character life, a real spirit. She is simply gorgeous and her careful mannerisms make her very believable as a hippie. It's too bad her talent was squandered on this forgettable film.<br /><br />In the book-to-movie category, this is a dreadful translation, almost as bad as Message in a Bottle with Kevin Costner. But don't get me started on that one...<br /><br />I am not usually so harsh in my critiques but I was so disappointed here, because I really cared about the story and wanted to see it told right. It did not deliver...<br /><br />   \n",
              "1                                                                                                                                                                                                                                                                                                                    OK if you are looking for a fun lesbian romp. This is NOT the movie If you are looking for a fun movie with hot sociopathic characters (in the vane of 'cruel intentions' or 'wild things') This is NOT the movie if you are looking for a classic vampire lesbian seductress's movie. This is NOT the movie.<br /><br />However if you are looking to wast an hour of your life, this is your movie. It is badly written, badly directed,badly scored, badly filmed.It had bad special effects...i mean really bad special effects. I think that you can actually generate the same special effects in imovie lol.<br /><br />IT REALLY IS A PRETTY BAD MOVIE.<br /><br />The actors were classic starlet beauties however look more like porn stars. it is shot like a soft core porn however you never get the money shot and the actors all look bored out of their brains. the 'girl on girl' scenes, which suck btw, were so LAME that there hardly worth mentioning. go watch the 'almost sex scenes' on youtube cos that's the only reason you would want to watch this movie and even there not worth it.<br /><br />A WAST OF MONEY AND TIME!!! don't even pick it up, go watch 'Cruel intentions 2' instead - same movie without the bad special effects, bad storyline,bad writing,bad dialog and bad acting. actually i might go watch it now just to purge my mind   \n",
              "\n",
              "   sentiment  \n",
              "0          0  \n",
              "1          0  "
            ],
            "text/html": [
              "\n",
              "  <div id=\"df-b48396b3-7125-4b4d-b7d7-366f90adbe9b\" class=\"colab-df-container\">\n",
              "    <div>\n",
              "<style scoped>\n",
              "    .dataframe tbody tr th:only-of-type {\n",
              "        vertical-align: middle;\n",
              "    }\n",
              "\n",
              "    .dataframe tbody tr th {\n",
              "        vertical-align: top;\n",
              "    }\n",
              "\n",
              "    .dataframe thead th {\n",
              "        text-align: right;\n",
              "    }\n",
              "</style>\n",
              "<table border=\"1\" class=\"dataframe\">\n",
              "  <thead>\n",
              "    <tr style=\"text-align: right;\">\n",
              "      <th></th>\n",
              "      <th>review</th>\n",
              "      <th>sentiment</th>\n",
              "    </tr>\n",
              "  </thead>\n",
              "  <tbody>\n",
              "    <tr>\n",
              "      <th>0</th>\n",
              "      <td>I wanted to love this film so badly...I really did. But it was a horrible disappointment.&lt;br /&gt;&lt;br /&gt;I read Jennifer Egan's novel in 1996 and was enthralled by the story. In fact it remains one of my favorite books of all time. Mind you, the book had much more depth than this movie, in plot and emotional resonance. It MADE you care about the characters. It painted a complete picture of Phoebe, unlike the utterly poor characterization of the young girl in the film.&lt;br /&gt;&lt;br /&gt;Though beautiful and showing *some* promise in her burgeoning career, Jordana Brewster was as flat and hollow in this performance as was the script. And Christopher Eccleston (Wolf) was just an awful choice for the role of Wolf, both physically and logistically. What an awkward looking couple. Wolf should have been more of a dark brooding character, and more physically alluring, like he was in the book. What's more, the chemistry between the two actors was painfully forced.&lt;br /&gt;&lt;br /&gt;Cameron Diaz, however, deserves utmost praise for her performance. She took an impossibly mediocre script and gave her character life, a real spirit. She is simply gorgeous and her careful mannerisms make her very believable as a hippie. It's too bad her talent was squandered on this forgettable film.&lt;br /&gt;&lt;br /&gt;In the book-to-movie category, this is a dreadful translation, almost as bad as Message in a Bottle with Kevin Costner. But don't get me started on that one...&lt;br /&gt;&lt;br /&gt;I am not usually so harsh in my critiques but I was so disappointed here, because I really cared about the story and wanted to see it told right. It did not deliver...&lt;br /&gt;&lt;br /&gt;</td>\n",
              "      <td>0</td>\n",
              "    </tr>\n",
              "    <tr>\n",
              "      <th>1</th>\n",
              "      <td>OK if you are looking for a fun lesbian romp. This is NOT the movie If you are looking for a fun movie with hot sociopathic characters (in the vane of 'cruel intentions' or 'wild things') This is NOT the movie if you are looking for a classic vampire lesbian seductress's movie. This is NOT the movie.&lt;br /&gt;&lt;br /&gt;However if you are looking to wast an hour of your life, this is your movie. It is badly written, badly directed,badly scored, badly filmed.It had bad special effects...i mean really bad special effects. I think that you can actually generate the same special effects in imovie lol.&lt;br /&gt;&lt;br /&gt;IT REALLY IS A PRETTY BAD MOVIE.&lt;br /&gt;&lt;br /&gt;The actors were classic starlet beauties however look more like porn stars. it is shot like a soft core porn however you never get the money shot and the actors all look bored out of their brains. the 'girl on girl' scenes, which suck btw, were so LAME that there hardly worth mentioning. go watch the 'almost sex scenes' on youtube cos that's the only reason you would want to watch this movie and even there not worth it.&lt;br /&gt;&lt;br /&gt;A WAST OF MONEY AND TIME!!! don't even pick it up, go watch 'Cruel intentions 2' instead - same movie without the bad special effects, bad storyline,bad writing,bad dialog and bad acting. actually i might go watch it now just to purge my mind</td>\n",
              "      <td>0</td>\n",
              "    </tr>\n",
              "  </tbody>\n",
              "</table>\n",
              "</div>\n",
              "    <div class=\"colab-df-buttons\">\n",
              "\n",
              "  <div class=\"colab-df-container\">\n",
              "    <button class=\"colab-df-convert\" onclick=\"convertToInteractive('df-b48396b3-7125-4b4d-b7d7-366f90adbe9b')\"\n",
              "            title=\"Convert this dataframe to an interactive table.\"\n",
              "            style=\"display:none;\">\n",
              "\n",
              "  <svg xmlns=\"http://www.w3.org/2000/svg\" height=\"24px\" viewBox=\"0 -960 960 960\">\n",
              "    <path d=\"M120-120v-720h720v720H120Zm60-500h600v-160H180v160Zm220 220h160v-160H400v160Zm0 220h160v-160H400v160ZM180-400h160v-160H180v160Zm440 0h160v-160H620v160ZM180-180h160v-160H180v160Zm440 0h160v-160H620v160Z\"/>\n",
              "  </svg>\n",
              "    </button>\n",
              "\n",
              "  <style>\n",
              "    .colab-df-container {\n",
              "      display:flex;\n",
              "      gap: 12px;\n",
              "    }\n",
              "\n",
              "    .colab-df-convert {\n",
              "      background-color: #E8F0FE;\n",
              "      border: none;\n",
              "      border-radius: 50%;\n",
              "      cursor: pointer;\n",
              "      display: none;\n",
              "      fill: #1967D2;\n",
              "      height: 32px;\n",
              "      padding: 0 0 0 0;\n",
              "      width: 32px;\n",
              "    }\n",
              "\n",
              "    .colab-df-convert:hover {\n",
              "      background-color: #E2EBFA;\n",
              "      box-shadow: 0px 1px 2px rgba(60, 64, 67, 0.3), 0px 1px 3px 1px rgba(60, 64, 67, 0.15);\n",
              "      fill: #174EA6;\n",
              "    }\n",
              "\n",
              "    .colab-df-buttons div {\n",
              "      margin-bottom: 4px;\n",
              "    }\n",
              "\n",
              "    [theme=dark] .colab-df-convert {\n",
              "      background-color: #3B4455;\n",
              "      fill: #D2E3FC;\n",
              "    }\n",
              "\n",
              "    [theme=dark] .colab-df-convert:hover {\n",
              "      background-color: #434B5C;\n",
              "      box-shadow: 0px 1px 3px 1px rgba(0, 0, 0, 0.15);\n",
              "      filter: drop-shadow(0px 1px 2px rgba(0, 0, 0, 0.3));\n",
              "      fill: #FFFFFF;\n",
              "    }\n",
              "  </style>\n",
              "\n",
              "    <script>\n",
              "      const buttonEl =\n",
              "        document.querySelector('#df-b48396b3-7125-4b4d-b7d7-366f90adbe9b button.colab-df-convert');\n",
              "      buttonEl.style.display =\n",
              "        google.colab.kernel.accessAllowed ? 'block' : 'none';\n",
              "\n",
              "      async function convertToInteractive(key) {\n",
              "        const element = document.querySelector('#df-b48396b3-7125-4b4d-b7d7-366f90adbe9b');\n",
              "        const dataTable =\n",
              "          await google.colab.kernel.invokeFunction('convertToInteractive',\n",
              "                                                    [key], {});\n",
              "        if (!dataTable) return;\n",
              "\n",
              "        const docLinkHtml = 'Like what you see? Visit the ' +\n",
              "          '<a target=\"_blank\" href=https://colab.research.google.com/notebooks/data_table.ipynb>data table notebook</a>'\n",
              "          + ' to learn more about interactive tables.';\n",
              "        element.innerHTML = '';\n",
              "        dataTable['output_type'] = 'display_data';\n",
              "        await google.colab.output.renderOutput(dataTable, element);\n",
              "        const docLink = document.createElement('div');\n",
              "        docLink.innerHTML = docLinkHtml;\n",
              "        element.appendChild(docLink);\n",
              "      }\n",
              "    </script>\n",
              "  </div>\n",
              "\n",
              "\n",
              "    <div id=\"df-690a20d6-fab1-4882-94bd-b8eac6df3663\">\n",
              "      <button class=\"colab-df-quickchart\" onclick=\"quickchart('df-690a20d6-fab1-4882-94bd-b8eac6df3663')\"\n",
              "                title=\"Suggest charts\"\n",
              "                style=\"display:none;\">\n",
              "\n",
              "<svg xmlns=\"http://www.w3.org/2000/svg\" height=\"24px\"viewBox=\"0 0 24 24\"\n",
              "     width=\"24px\">\n",
              "    <g>\n",
              "        <path d=\"M19 3H5c-1.1 0-2 .9-2 2v14c0 1.1.9 2 2 2h14c1.1 0 2-.9 2-2V5c0-1.1-.9-2-2-2zM9 17H7v-7h2v7zm4 0h-2V7h2v10zm4 0h-2v-4h2v4z\"/>\n",
              "    </g>\n",
              "</svg>\n",
              "      </button>\n",
              "\n",
              "<style>\n",
              "  .colab-df-quickchart {\n",
              "      --bg-color: #E8F0FE;\n",
              "      --fill-color: #1967D2;\n",
              "      --hover-bg-color: #E2EBFA;\n",
              "      --hover-fill-color: #174EA6;\n",
              "      --disabled-fill-color: #AAA;\n",
              "      --disabled-bg-color: #DDD;\n",
              "  }\n",
              "\n",
              "  [theme=dark] .colab-df-quickchart {\n",
              "      --bg-color: #3B4455;\n",
              "      --fill-color: #D2E3FC;\n",
              "      --hover-bg-color: #434B5C;\n",
              "      --hover-fill-color: #FFFFFF;\n",
              "      --disabled-bg-color: #3B4455;\n",
              "      --disabled-fill-color: #666;\n",
              "  }\n",
              "\n",
              "  .colab-df-quickchart {\n",
              "    background-color: var(--bg-color);\n",
              "    border: none;\n",
              "    border-radius: 50%;\n",
              "    cursor: pointer;\n",
              "    display: none;\n",
              "    fill: var(--fill-color);\n",
              "    height: 32px;\n",
              "    padding: 0;\n",
              "    width: 32px;\n",
              "  }\n",
              "\n",
              "  .colab-df-quickchart:hover {\n",
              "    background-color: var(--hover-bg-color);\n",
              "    box-shadow: 0 1px 2px rgba(60, 64, 67, 0.3), 0 1px 3px 1px rgba(60, 64, 67, 0.15);\n",
              "    fill: var(--button-hover-fill-color);\n",
              "  }\n",
              "\n",
              "  .colab-df-quickchart-complete:disabled,\n",
              "  .colab-df-quickchart-complete:disabled:hover {\n",
              "    background-color: var(--disabled-bg-color);\n",
              "    fill: var(--disabled-fill-color);\n",
              "    box-shadow: none;\n",
              "  }\n",
              "\n",
              "  .colab-df-spinner {\n",
              "    border: 2px solid var(--fill-color);\n",
              "    border-color: transparent;\n",
              "    border-bottom-color: var(--fill-color);\n",
              "    animation:\n",
              "      spin 1s steps(1) infinite;\n",
              "  }\n",
              "\n",
              "  @keyframes spin {\n",
              "    0% {\n",
              "      border-color: transparent;\n",
              "      border-bottom-color: var(--fill-color);\n",
              "      border-left-color: var(--fill-color);\n",
              "    }\n",
              "    20% {\n",
              "      border-color: transparent;\n",
              "      border-left-color: var(--fill-color);\n",
              "      border-top-color: var(--fill-color);\n",
              "    }\n",
              "    30% {\n",
              "      border-color: transparent;\n",
              "      border-left-color: var(--fill-color);\n",
              "      border-top-color: var(--fill-color);\n",
              "      border-right-color: var(--fill-color);\n",
              "    }\n",
              "    40% {\n",
              "      border-color: transparent;\n",
              "      border-right-color: var(--fill-color);\n",
              "      border-top-color: var(--fill-color);\n",
              "    }\n",
              "    60% {\n",
              "      border-color: transparent;\n",
              "      border-right-color: var(--fill-color);\n",
              "    }\n",
              "    80% {\n",
              "      border-color: transparent;\n",
              "      border-right-color: var(--fill-color);\n",
              "      border-bottom-color: var(--fill-color);\n",
              "    }\n",
              "    90% {\n",
              "      border-color: transparent;\n",
              "      border-bottom-color: var(--fill-color);\n",
              "    }\n",
              "  }\n",
              "</style>\n",
              "\n",
              "      <script>\n",
              "        async function quickchart(key) {\n",
              "          const quickchartButtonEl =\n",
              "            document.querySelector('#' + key + ' button');\n",
              "          quickchartButtonEl.disabled = true;  // To prevent multiple clicks.\n",
              "          quickchartButtonEl.classList.add('colab-df-spinner');\n",
              "          try {\n",
              "            const charts = await google.colab.kernel.invokeFunction(\n",
              "                'suggestCharts', [key], {});\n",
              "          } catch (error) {\n",
              "            console.error('Error during call to suggestCharts:', error);\n",
              "          }\n",
              "          quickchartButtonEl.classList.remove('colab-df-spinner');\n",
              "          quickchartButtonEl.classList.add('colab-df-quickchart-complete');\n",
              "        }\n",
              "        (() => {\n",
              "          let quickchartButtonEl =\n",
              "            document.querySelector('#df-690a20d6-fab1-4882-94bd-b8eac6df3663 button');\n",
              "          quickchartButtonEl.style.display =\n",
              "            google.colab.kernel.accessAllowed ? 'block' : 'none';\n",
              "        })();\n",
              "      </script>\n",
              "    </div>\n",
              "\n",
              "    </div>\n",
              "  </div>\n"
            ],
            "application/vnd.google.colaboratory.intrinsic+json": {
              "type": "dataframe",
              "variable_name": "df",
              "summary": "{\n  \"name\": \"df\",\n  \"rows\": 50000,\n  \"fields\": [\n    {\n      \"column\": \"review\",\n      \"properties\": {\n        \"dtype\": \"string\",\n        \"num_unique_values\": 49582,\n        \"samples\": [\n          \"This has some excellent spots but the length of the film can not sustain the wafer thin plot. It is another sailors on leave film, zippier than Astaire's 'Follow the Fleet' but not as good as 'On The Town'. <br /><br />Kathryn Grayson is bland but Kelly and Sinatra work well together. Their 'If you Knew Susie' number is hilarious as they make up the song as they sing it. 'I Begged Her' is also fun with Sinatra showing how adept he was at hoofing. Sinatra's solo songs are dull and seem to be inserted to show off his singing rather than as part of the story. Fortunately there are accomplished supporting actors like Grady Sutton, Rags Ragland, Carlos Ramirez and Pamela Britton and an unlikely but impertubable Jose Iturbi as himself, to keep one watching.<br /><br />Kelly is the star of the film, although third billed and it is interesting to see him interact with children, which Astaire never did. Dean Stockwell plays a child who wants to be in the navy and latches on to the Kelly character. He also visit a school resulting in him telling the children a fictitious story of his life in the Pomeranian (!)navy which leads to his wonderful dance with an animated Jerry Mouse. In another scene he dances a charming Mexican Hat Dance with a sublimely grave faced little girl, Sharon McManus, that is entrancing and sweet. <br /><br />Very pleasant then but a bit too long. A taster of better musicals to come.\",\n          \"I was at Wrestlemania VI in Toronto as a 10 year old, and the event I saw then was pretty different from what I saw on the Wrestlemania Collection DVD I just watched. I don't understand how the wwE doesn't have the rights to some of the old music, since most of those songs were created by the WWF they shouldn't have to worry about the licensing and royalty fees that prevent shows like SNL from releasing season sets. Its pretty stupid to whine about, but for me hearing Demolition come out to their theme music at a Wrestlemania in person was a memory that I never forgot, and it didn't exist on this DVD. What is the point of them even owning the rights to this huge library of video if they have to edit it so drastically to use it?\",\n          \"Legend of Zu<br /><br />I remember well Tsui Hark's original Zu Warriors made 18 years earlier. Over one Christmas, on a rare week when Channel 4 in the UK showed a week of Hong Kong movies, Zu Warriors was so gripping for a very young viewer and his brother and so memorable, that it's been etched into the memory of the now grown up sprog...<br /><br />In fact, I think the original Zu Warriors is one of the earliest films I saw as a kid that I can clearly recall the story line and action scenes from. And the memories of seeing Yuen Biao, Sammo Hung and others in their classic prime.<br /><br />So when I saw this remake of Zu Warriors, there was a feeling of apprehension. Could it beat the dreamy childhood memories I had of the original, or will it follow the road of other remakes and die a death more horrible than the baddies and their broken necks you find in those kung fu movies?<br /><br />Well the answer is I can't say. But that was because this isn't really a remake. The stories (and styles) are almost completely different.<br /><br />The Legend of Zu tells of the story of King Sky, a lone warrior, whose master, Dawn, declares her love for him but her life is taken from her by a monster called Insomnia. Two hundred years later, Insomnia returns, Dawn is reincarnated as Enigma, and Insomnia has returned to destroy Zu. Meanwhile White Eyebrows and Red try, with the help of King Sky, to stop Insomnia.<br /><br />The plot isn't one full of twists and turns, but had enough detail in it to keep me interested. But I can see this film as one you either love or you hate. The film is very much about the special effects, with the majority of it involving several computer generated environments, much like The Storm Riders and A Man Called Hero. But unlike the other two, this film was one which didn't overdo the graphics and the whole thing was tasteful. Nothing appears rushed - unlike Hero. The backgrounds were complementary to the acting and not at all overpowering the scenes.<br /><br />The story also involves plenty of characters and the intermingling of so many individuals does make the film intriguing. It was possibly on the verge of 'too many cooks', but generally each character had its part in the story. But some of the roles appear to be 'extended cameos' in my opinion, and I somehow am left to slightly question the necessity of this.<br /><br />Ekin Cheng and Louis Koo play very central roles in the film, but I couldn't say this film showed their best performances. Cecilia Cheung appears to at least have matured in her acting, but it is still quite raw. Kelly Lin was the new revelation for me. Despite her very short role, I have apologise and admit to ogling!<br /><br />Overall, I have to say, did enjoy this film as much as I enjoyed the 'original'. Given that both movies are made by the legendary Tsui Hark, the two films together are part of a chronicle showing how film making in Hong Kong has changed over two decades. And one beauty of that is the fact that you can't really compare the two films at all, as much as apples are apples and pears are pears.<br /><br />Ultimately, both are thoroughly enjoyable films in their own right. And I'm going back to reminisce by watching the original again.<br /><br />Two to watch, but not compare.\"\n        ],\n        \"semantic_type\": \"\",\n        \"description\": \"\"\n      }\n    },\n    {\n      \"column\": \"sentiment\",\n      \"properties\": {\n        \"dtype\": \"number\",\n        \"std\": 0,\n        \"min\": 0,\n        \"max\": 1,\n        \"num_unique_values\": 2,\n        \"samples\": [\n          1,\n          0\n        ],\n        \"semantic_type\": \"\",\n        \"description\": \"\"\n      }\n    }\n  ]\n}"
            }
          },
          "metadata": {},
          "execution_count": 5
        }
      ]
    },
    {
      "cell_type": "code",
      "source": [
        "# Check for missing values\n",
        "missing_data = df.isnull().sum()\n",
        "print(\"Missing Data:\\n\", missing_data)"
      ],
      "metadata": {
        "colab": {
          "base_uri": "https://localhost:8080/"
        },
        "id": "SfyALhvHlaF-",
        "outputId": "047b9151-641b-44d2-c66e-f4800e4c9f86"
      },
      "execution_count": 6,
      "outputs": [
        {
          "output_type": "stream",
          "name": "stdout",
          "text": [
            "Missing Data:\n",
            " review       0\n",
            "sentiment    0\n",
            "dtype: int64\n"
          ]
        }
      ]
    },
    {
      "source": [
        "# Use duplicated() to find duplicate reviews and keep first occurrence\n",
        "df['review'].duplicated(keep='first')\n",
        "\n",
        "# Drop duplicate reviews, keeping only the first occurrence\n",
        "df.drop_duplicates(subset=['review'], keep='first', inplace=True)\n",
        "\n",
        "# Verify if there are any duplicates present\n",
        "if df['review'].duplicated().any():\n",
        "    print(\"There are duplicate reviews in the dataframe.\")\n",
        "else:\n",
        "    print(\"There are no duplicate reviews in the dataframe.\")"
      ],
      "cell_type": "code",
      "metadata": {
        "colab": {
          "base_uri": "https://localhost:8080/"
        },
        "id": "PM-ZZDaz4uRR",
        "outputId": "e318ee7c-b9e0-46e1-b2f3-b5e78214dfff"
      },
      "execution_count": 7,
      "outputs": [
        {
          "output_type": "stream",
          "name": "stdout",
          "text": [
            "There are no duplicate reviews in the dataframe.\n"
          ]
        }
      ]
    },
    {
      "cell_type": "markdown",
      "source": [
        "# Distribution of Sentiments"
      ],
      "metadata": {
        "id": "DlRkjQk0mDw4"
      }
    },
    {
      "cell_type": "code",
      "source": [
        "# Plot the distribution of sentiments (positive/negative reviews)\n",
        "df['sentiment'].value_counts().plot(kind='bar', color=['skyblue', 'lightcoral'])\n",
        "plt.title('Sentiment Distribution')\n",
        "plt.xlabel('Sentiment')\n",
        "plt.ylabel('Count')\n",
        "plt.xticks(rotation=0)\n",
        "plt.show()"
      ],
      "metadata": {
        "colab": {
          "base_uri": "https://localhost:8080/",
          "height": 472
        },
        "id": "Td-_UQDclhIe",
        "outputId": "539e096e-c7f2-43cd-882f-2f0f4fed9122"
      },
      "execution_count": 8,
      "outputs": [
        {
          "output_type": "display_data",
          "data": {
            "text/plain": [
              "<Figure size 640x480 with 1 Axes>"
            ],
            "image/png": "[encoded data removed]"
          },
          "metadata": {}
        }
      ]
    },
    {
      "cell_type": "markdown",
      "source": [
        "A balanced dataset is preferred for training. If the dataset is imbalanced (more positive or negative reviews), we may need to consider techniques such as resampling or using weighted loss functions."
      ],
      "metadata": {
        "id": "a2sMfWxkl7rb"
      }
    },
    {
      "cell_type": "markdown",
      "source": [
        "We analyze the length of reviews to understand their variability. Longer reviews may contain more context, but they also introduce noise. We can decide whether to truncate or pad the reviews based on their lengths."
      ],
      "metadata": {
        "id": "HvH9nf4ml4YP"
      }
    },
    {
      "cell_type": "markdown",
      "source": [
        "# Review Length Analysis"
      ],
      "metadata": {
        "id": "1-6p4_VRl_G9"
      }
    },
    {
      "cell_type": "code",
      "source": [
        "# Add a column for the length of each review\n",
        "df['review_length'] = df['review'].apply(lambda x: len(x.split()))\n",
        "\n",
        "# Plot distribution of review lengths\n",
        "plt.figure(figsize=(10,6))\n",
        "df['review_length'].hist(bins=50, color='lightgreen', edgecolor='black')\n",
        "plt.title('Distribution of Review Lengths')\n",
        "plt.xlabel('Review Length (Number of Words)')\n",
        "plt.ylabel('Frequency')\n",
        "plt.show()"
      ],
      "metadata": {
        "colab": {
          "base_uri": "https://localhost:8080/",
          "height": 564
        },
        "id": "JHIesyhnlx90",
        "outputId": "f0cbb5f4-f727-467b-fcca-922a38a9e780"
      },
      "execution_count": 9,
      "outputs": [
        {
          "output_type": "display_data",
          "data": {
            "text/plain": [
              "<Figure size 1000x600 with 1 Axes>"
            ],
            "image/png": "[encoded data removed]"
          },
          "metadata": {}
        }
      ]
    },
    {
      "cell_type": "markdown",
      "source": [
        "Keep all reviews as-is, no truncation needed.\n",
        "\n",
        "TF-IDF handles variable-length inputs naturally.\n",
        "\n",
        "Long reviews just get sparser vectors — not a problem."
      ],
      "metadata": {
        "id": "dH9XnvcJngKl"
      }
    },
    {
      "cell_type": "markdown",
      "source": [
        "# Text Cleaning"
      ],
      "metadata": {
        "id": "lWZwodDByItk"
      }
    },
    {
      "cell_type": "markdown",
      "source": [
        "We clean the text by converting to lowercase, removing numbers, and stripping punctuation. Text cleaning is essential to remove unwanted characters and ensure that the text data is in a uniform, usable format for analysis."
      ],
      "metadata": {
        "id": "CSr-3bfTs8aZ"
      }
    },
    {
      "cell_type": "code",
      "source": [
        "def clean_text(text):\n",
        "    text = text.lower()\n",
        "    text = re.sub(r'\\d+', '', text)  # remove digits\n",
        "    text = re.sub(r'[^\\w\\s]', '', text)  # remove punctuation\n",
        "    return text\n",
        "\n",
        "df['clean_review'] = df['review'].apply(clean_text)\n"
      ],
      "metadata": {
        "id": "Q2HEKUwPyGkm"
      },
      "execution_count": 10,
      "outputs": []
    },
    {
      "cell_type": "markdown",
      "source": [
        "# Tokenization + Stopword Removal + Word Frequency"
      ],
      "metadata": {
        "id": "1wyFjy1JyOs6"
      }
    },
    {
      "cell_type": "markdown",
      "source": [
        "We tokenize the text into words and remove common stop words that do not contribute to the sentiment analysis. Tokenization splits the text into words, and removing stopwords eliminates common words like \"the\", \"and\", which do not provide useful information for sentiment analysis."
      ],
      "metadata": {
        "id": "zL61PDtetUpc"
      }
    },
    {
      "cell_type": "code",
      "source": [
        "stop_words = set(stopwords.words('english'))\n",
        "custom_stop_words = {'br', 'like', 'movie', 'film', 'one','story','time','see','would','films','good'}\n",
        "\n",
        "def tokenize_and_filter(texts):\n",
        "    tokens = []\n",
        "    for review in texts:\n",
        "        words = word_tokenize(review)\n",
        "        filtered = [w for w in words if w not in stop_words and w not in custom_stop_words and len(w) > 1]\n",
        "        tokens.extend(filtered)\n",
        "    return tokens\n",
        "\n",
        "positive_reviews = df[df['sentiment'] == 1]['clean_review']\n",
        "negative_reviews = df[df['sentiment'] == 0]['clean_review']\n",
        "\n",
        "positive_tokens = tokenize_and_filter(positive_reviews)\n",
        "negative_tokens = tokenize_and_filter(negative_reviews)\n",
        "\n",
        "# Frequency count\n",
        "positive_counts = Counter(positive_tokens).most_common(15)\n",
        "negative_counts = Counter(negative_tokens).most_common(15)\n",
        "\n",
        "# Plot Positive Words\n",
        "pd.DataFrame(positive_counts, columns=['Word', 'Count']).plot(\n",
        "    kind='bar', x='Word', y='Count', color='green', title='Top Words in Positive Reviews'\n",
        ")\n",
        "plt.xticks(rotation=45)\n",
        "plt.show()\n",
        "\n",
        "# Plot Negative Words\n",
        "pd.DataFrame(negative_counts, columns=['Word', 'Count']).plot(\n",
        "    kind='bar', x='Word', y='Count', color='red', title='Top Words in Negative Reviews'\n",
        ")\n",
        "plt.xticks(rotation=45)\n",
        "plt.show()\n"
      ],
      "metadata": {
        "colab": {
          "base_uri": "https://localhost:8080/",
          "height": 1000
        },
        "id": "S6geo2VtyS2g",
        "outputId": "b3f99b25-5c88-42bf-dbb1-a99cfb9dd872"
      },
      "execution_count": 11,
      "outputs": [
        {
          "output_type": "display_data",
          "data": {
            "text/plain": [
              "<Figure size 640x480 with 1 Axes>"
            ],
            "image/png": "[encoded data removed]"
          },
          "metadata": {}
        },
        {
          "output_type": "display_data",
          "data": {
            "text/plain": [
              "<Figure size 640x480 with 1 Axes>"
            ],
            "image/png": "[encoded data removed]"
          },
          "metadata": {}
        }
      ]
    },
    {
      "cell_type": "markdown",
      "source": [
        "# N-Gram Analysis"
      ],
      "metadata": {
        "id": "XviCe5rTshTl"
      }
    },
    {
      "cell_type": "markdown",
      "source": [
        "An N-gram is a contiguous sequence of N items from a given sample of text or speech. These \"items\" are typically words, but they can also be characters, depending on the context and the application. In general, N-grams are a simple yet powerful tool in text analysis and can improve the performance of many NLP tasks.\n",
        "\n",
        "We analyze unigrams and bigrams to identify important word pairs and phrases. Analyzing n-grams helps us understand important word sequences (e.g., \"not good\", \"highly recommend\") that may indicate sentiment. These insights can help us better capture sentiment in the reviews."
      ],
      "metadata": {
        "id": "AcPLsXMpsmQN"
      }
    },
    {
      "cell_type": "code",
      "source": [
        "from sklearn.feature_extraction.text import CountVectorizer\n",
        "\n",
        "vectorizer = CountVectorizer(ngram_range=(1, 2), stop_words='english')\n",
        "X_ngram = vectorizer.fit_transform(df['review'])\n",
        "ngram_freq = np.asarray(X_ngram.sum(axis=0)).flatten()\n",
        "feature_names = vectorizer.get_feature_names_out()\n",
        "\n",
        "ngram_df = pd.DataFrame({'ngram': feature_names, 'count': ngram_freq})\n",
        "top_ngrams = ngram_df.sort_values(by='count', ascending=False).head(10)\n"
      ],
      "metadata": {
        "id": "FJQ-FO3rvV7X"
      },
      "execution_count": 12,
      "outputs": []
    },
    {
      "cell_type": "markdown",
      "source": [
        "# Advanced Text Preprocessing (Lemmatization)"
      ],
      "metadata": {
        "id": "Lj16sxEMyumj"
      }
    },
    {
      "cell_type": "code",
      "source": [
        "lemmatizer = WordNetLemmatizer()\n",
        "\n",
        "def preprocess(text):\n",
        "    text = text.lower()\n",
        "    text = re.sub(r'[^a-z\\s]', '', text)\n",
        "    tokens = word_tokenize(text)\n",
        "    filtered = [t for t in tokens if t not in stop_words]\n",
        "    lemmatized = [lemmatizer.lemmatize(t) for t in filtered]\n",
        "    return ' '.join(lemmatized)\n",
        "\n",
        "df['cleaned_review'] = df['review'].apply(preprocess)"
      ],
      "metadata": {
        "id": "YALBaUVwyuCm"
      },
      "execution_count": 13,
      "outputs": []
    },
    {
      "cell_type": "markdown",
      "source": [
        "#  Label Encoding"
      ],
      "metadata": {
        "id": "2i3js5e_y2Rq"
      }
    },
    {
      "cell_type": "code",
      "source": [
        "df['label'] = df['sentiment'].map({'positive': 1, 'negative': 0}).fillna(df['sentiment'])  # Handle numeric labels if already 0/1"
      ],
      "metadata": {
        "id": "1O89yUqvy1bP"
      },
      "execution_count": 14,
      "outputs": []
    },
    {
      "cell_type": "markdown",
      "source": [
        "# Train-Test Split"
      ],
      "metadata": {
        "id": "Y2mhxF_Uy6CB"
      }
    },
    {
      "cell_type": "code",
      "source": [
        "from sklearn.model_selection import train_test_split\n",
        "\n",
        "X = df['cleaned_review']\n",
        "y = df['label']\n",
        "X_train, X_test, y_train, y_test = train_test_split(X, y, test_size=0.2, random_state=42)"
      ],
      "metadata": {
        "id": "RVas-Mjpy9I-"
      },
      "execution_count": 15,
      "outputs": []
    },
    {
      "cell_type": "markdown",
      "source": [
        "# TF-IDF Vectorization"
      ],
      "metadata": {
        "id": "yb248d9Sy_sz"
      }
    },
    {
      "cell_type": "code",
      "source": [
        "from sklearn.feature_extraction.text import TfidfVectorizer\n",
        "\n",
        "vectorizer = TfidfVectorizer(max_features=5000)\n",
        "X_train_vec = vectorizer.fit_transform(X_train)\n",
        "X_test_vec = vectorizer.transform(X_test)\n",
        "\n",
        "print(\"TF-IDF Feature Shape:\", X_train_vec.shape)"
      ],
      "metadata": {
        "colab": {
          "base_uri": "https://localhost:8080/"
        },
        "id": "amMH5JZBzDsh",
        "outputId": "8c3ddb75-b2b3-4088-e206-596dfe502d17"
      },
      "execution_count": 16,
      "outputs": [
        {
          "output_type": "stream",
          "name": "stdout",
          "text": [
            "TF-IDF Feature Shape: (39665, 5000)\n"
          ]
        }
      ]
    },
    {
      "cell_type": "markdown",
      "source": [
        "# Model Training (Naive Bayes)"
      ],
      "metadata": {
        "id": "KKfeW_xLzF4p"
      }
    },
    {
      "cell_type": "code",
      "source": [
        "# Initial Model Training (Naive Bayes)\n",
        "from sklearn.naive_bayes import MultinomialNB\n",
        "from sklearn.metrics import classification_report, confusion_matrix\n",
        "\n",
        "model = MultinomialNB()\n",
        "model.fit(X_train_vec, y_train)\n",
        "y_pred = model.predict(X_test_vec)\n",
        "\n",
        "# 4. Evaluate Initial Model\n",
        "print(\"Initial Model Evaluation\")\n",
        "print(\"Classification Report:\\n\", classification_report(y_test, y_pred))\n",
        "print(\"Confusion Matrix:\\n\", confusion_matrix(y_test, y_pred))"
      ],
      "metadata": {
        "colab": {
          "base_uri": "https://localhost:8080/"
        },
        "id": "iGB855gN5dKP",
        "outputId": "e8037e02-63e5-4305-9053-a1c5996eb9e2"
      },
      "execution_count": 17,
      "outputs": [
        {
          "output_type": "stream",
          "name": "stdout",
          "text": [
            "Initial Model Evaluation\n",
            "Classification Report:\n",
            "               precision    recall  f1-score   support\n",
            "\n",
            "         0.0       0.86      0.84      0.85      4961\n",
            "         1.0       0.85      0.86      0.85      4956\n",
            "\n",
            "    accuracy                           0.85      9917\n",
            "   macro avg       0.85      0.85      0.85      9917\n",
            "weighted avg       0.85      0.85      0.85      9917\n",
            "\n",
            "Confusion Matrix:\n",
            " [[4184  777]\n",
            " [ 690 4266]]\n"
          ]
        }
      ]
    },
    {
      "cell_type": "markdown",
      "source": [
        "# Tuning Naive Bayes hyperparameters with GridSearchCV"
      ],
      "metadata": {
        "id": "4aUYZ67r5xIo"
      }
    },
    {
      "cell_type": "code",
      "source": [
        "# Tuning Naive Bayes hyperparameters with GridSearchCV\n",
        "from sklearn.model_selection import GridSearchCV\n",
        "\n",
        "params = {'alpha': [0.1, 0.5, 1.0, 2.0]}  # Define the hyperparameters to tune\n",
        "grid_search = GridSearchCV(MultinomialNB(), param_grid=params, cv=5)\n",
        "grid_search.fit(X_train_vec, y_train)\n",
        "\n",
        "# Print best hyperparameters from GridSearch\n",
        "print(\"Best hyperparameters from GridSearch:\", grid_search.best_params_)"
      ],
      "metadata": {
        "colab": {
          "base_uri": "https://localhost:8080/"
        },
        "id": "f3BHd6v44cGt",
        "outputId": "7d131c18-2c66-410c-80f2-5ac908a67d08"
      },
      "execution_count": 18,
      "outputs": [
        {
          "output_type": "stream",
          "name": "stdout",
          "text": [
            "Best hyperparameters from GridSearch: {'alpha': 2.0}\n"
          ]
        }
      ]
    },
    {
      "cell_type": "code",
      "source": [
        "# Retrain the model with the best parameters\n",
        "best_model = grid_search.best_estimator_\n",
        "y_pred_best = best_model.predict(X_test_vec)\n",
        "\n",
        "# Evaluate the model with the best hyperparameters\n",
        "print(\"Best Model Evaluation\")\n",
        "print(\"Classification Report:\\n\", classification_report(y_test, y_pred_best))\n",
        "print(\"Confusion Matrix:\\n\", confusion_matrix(y_test, y_pred_best))\n",
        "# Create confusion matrix\n",
        "cm = confusion_matrix(y_test, y_pred_best)\n",
        "plt.figure(figsize=(3, 3))\n",
        "sns.heatmap(cm, annot=True, fmt='d', cmap='Blues', xticklabels=['Negative', 'Positive'], yticklabels=['Negative', 'Positive'])\n",
        "plt.title('Confusion Matrix')\n",
        "plt.xlabel('Predicted')\n",
        "plt.ylabel('Actual')\n",
        "plt.show()"
      ],
      "metadata": {
        "colab": {
          "base_uri": "https://localhost:8080/",
          "height": 583
        },
        "id": "ITJ02cmr5r_K",
        "outputId": "6490a6f7-6528-468b-b1b5-09072e9112ae"
      },
      "execution_count": 19,
      "outputs": [
        {
          "output_type": "stream",
          "name": "stdout",
          "text": [
            "Best Model Evaluation\n",
            "Classification Report:\n",
            "               precision    recall  f1-score   support\n",
            "\n",
            "         0.0       0.86      0.84      0.85      4961\n",
            "         1.0       0.85      0.86      0.85      4956\n",
            "\n",
            "    accuracy                           0.85      9917\n",
            "   macro avg       0.85      0.85      0.85      9917\n",
            "weighted avg       0.85      0.85      0.85      9917\n",
            "\n",
            "Confusion Matrix:\n",
            " [[4185  776]\n",
            " [ 694 4262]]\n"
          ]
        },
        {
          "output_type": "display_data",
          "data": {
            "text/plain": [
              "<Figure size 300x300 with 2 Axes>"
            ],
            "image/png": "[encoded data removed]"
          },
          "metadata": {}
        }
      ]
    },
    {
      "cell_type": "code",
      "source": [
        "# Select a random index from the test set (make sure it's within the bounds of X_test)\n",
        "example_idx_test_set = 555  # Index in the test set (X_test)\n",
        "example_review = X_test.iloc[example_idx_test_set]  # Review text from test set\n",
        "actual_sentiment = y_test.iloc[example_idx_test_set]  # Actual sentiment from the test set (1 = Positive, 0 = Negative)\n",
        "\n",
        "# Preprocess the review (cleaning, tokenizing, lemmatizing)\n",
        "example_review_cleaned = preprocess(example_review)  # Use your preprocessing function here\n",
        "\n",
        "# Transform the review using the same TF-IDF vectorizer\n",
        "example_review_vec = vectorizer.transform([example_review_cleaned])  # Make sure it's a 2D array\n",
        "\n",
        "# Predict the sentiment using the trained model\n",
        "predicted_sentiment = best_model.predict(example_review_vec)[0]  # The [0] is to get the scalar result\n",
        "\n",
        "# Display the review text\n",
        "print(f\"Review: {example_review}\")\n",
        "print(f\"Actual Sentiment: {actual_sentiment} (0=Negative, 1=Positive)\")\n",
        "print(f\"Predicted Sentiment: {predicted_sentiment} (0=Negative, 1=Positive)\")\n"
      ],
      "metadata": {
        "colab": {
          "base_uri": "https://localhost:8080/"
        },
        "id": "NvkfLEte8y2D",
        "outputId": "c3a6309e-d390-48d3-df35-a521920a57dc"
      },
      "execution_count": 20,
      "outputs": [
        {
          "output_type": "stream",
          "name": "stdout",
          "text": [
            "Review: disregard plot enjoy fred astaire foggy day several dance one duo hapless joan fontaine see astaire essentially stage dance purer form film ginger rogers learned take full advantage potential film best fact see burn allen radiotv husbandwife comedy career kind dancing must done vaudeville chance paramount college film george tap dance instructor two number fred high point film worth waiting first soft shoe trio warmup chin exhilarating carnival number three sing dance ride attraction almost seems spontaneous fan fred astaire burn allen find worth bearing plot ive seen one time find fast forward button helpful\n",
            "Actual Sentiment: 1.0 (0=Negative, 1=Positive)\n",
            "Predicted Sentiment: 1.0 (0=Negative, 1=Positive)\n"
          ]
        }
      ]
    }
  ]
}